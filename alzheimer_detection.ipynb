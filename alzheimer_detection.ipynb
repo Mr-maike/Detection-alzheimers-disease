{
  "nbformat": 4,
  "nbformat_minor": 0,
  "metadata": {
    "colab": {
      "provenance": [],
      "gpuType": "T4",
      "authorship_tag": "ABX9TyMqca60MjzcJ5rT71g+JpVg",
      "include_colab_link": true
    },
    "kernelspec": {
      "name": "python3",
      "display_name": "Python 3"
    },
    "language_info": {
      "name": "python"
    },
    "accelerator": "GPU"
  },
  "cells": [
    {
      "cell_type": "markdown",
      "metadata": {
        "id": "view-in-github",
        "colab_type": "text"
      },
      "source": [
        "<a href=\"https://colab.research.google.com/github/Mr-maike/Detection-alzheimers-disease/blob/main/alzheimer_detection.ipynb\" target=\"_parent\"><img src=\"https://colab.research.google.com/assets/colab-badge.svg\" alt=\"Open In Colab\"/></a>"
      ]
    },
    {
      "cell_type": "markdown",
      "source": [
        "#1) Configuração e Seleção de Imagens\n",
        "\n",
        "1.1 Instalar as depedências em Python"
      ],
      "metadata": {
        "id": "bNeqNJ7eut43"
      }
    },
    {
      "cell_type": "code",
      "execution_count": null,
      "metadata": {
        "id": "nKlVqdeN8NTR"
      },
      "outputs": [],
      "source": [
        "!pip install tensorflow opencv-python matplotlib"
      ]
    },
    {
      "cell_type": "code",
      "source": [
        "!pip install --user nibabel"
      ],
      "metadata": {
        "id": "c3muSmh4wFtV",
        "colab": {
          "base_uri": "https://localhost:8080/"
        },
        "outputId": "e21e6f0a-5e81-4e42-e2a0-14a2eff4171e"
      },
      "execution_count": null,
      "outputs": [
        {
          "output_type": "stream",
          "name": "stdout",
          "text": [
            "Requirement already satisfied: nibabel in /usr/local/lib/python3.10/dist-packages (4.0.2)\n",
            "Requirement already satisfied: numpy>=1.17 in /usr/local/lib/python3.10/dist-packages (from nibabel) (1.23.5)\n",
            "Requirement already satisfied: packaging>=17.0 in /usr/local/lib/python3.10/dist-packages (from nibabel) (23.2)\n",
            "Requirement already satisfied: setuptools in /usr/local/lib/python3.10/dist-packages (from nibabel) (67.7.2)\n"
          ]
        }
      ]
    },
    {
      "cell_type": "code",
      "source": [
        "import cv2\n",
        "import imghdr\n",
        "import nibabel as nib"
      ],
      "metadata": {
        "id": "eIyB9ZnYwHTo"
      },
      "execution_count": null,
      "outputs": []
    },
    {
      "cell_type": "code",
      "source": [
        "data_dir = 'data'\n",
        "image_exts = ['nii']"
      ],
      "metadata": {
        "id": "qiVsuF_YwMip"
      },
      "execution_count": null,
      "outputs": []
    },
    {
      "cell_type": "code",
      "source": [
        "import tensorflow as tf\n",
        "import os\n",
        "\n",
        "gpus = tf.config.experimental.list_physical_devices('GPU')\n",
        "\n",
        "for gpu in gpus:\n",
        "  tf.config.experimental.set_memory_growth(gpu, True)"
      ],
      "metadata": {
        "id": "wA_sEMelwFud"
      },
      "execution_count": null,
      "outputs": []
    },
    {
      "cell_type": "markdown",
      "source": [
        "1.2 Selecionar as imagens errada"
      ],
      "metadata": {
        "id": "8Cm0nxItut7u"
      }
    },
    {
      "cell_type": "code",
      "source": [
        "#Acessar imagens do diretório\n",
        "for image_class in os.listdir(data_dir):\n",
        "  for image in os.listdir(os.path.join(data_dir, image_class)):\n",
        "    print(image)"
      ],
      "metadata": {
        "colab": {
          "base_uri": "https://localhost:8080/"
        },
        "id": "vQd5hrb4vPSX",
        "outputId": "aec3d7a3-19b0-4391-f54f-24ee693bd4dc"
      },
      "execution_count": null,
      "outputs": [
        {
          "output_type": "stream",
          "name": "stdout",
          "text": [
            "sub-001_T1w.nii\n"
          ]
        }
      ]
    },
    {
      "cell_type": "code",
      "source": [
        "img = nib.load('data/alzheimer/sub-001_T1w.nii')\n",
        "print(img)"
      ],
      "metadata": {
        "colab": {
          "base_uri": "https://localhost:8080/"
        },
        "id": "9-HO1yFFwkLD",
        "outputId": "426ef941-389a-45c6-d0d8-120d2dd14fe0"
      },
      "execution_count": null,
      "outputs": [
        {
          "output_type": "stream",
          "name": "stdout",
          "text": [
            "<class 'nibabel.nifti1.Nifti1Image'>\n",
            "data shape (160, 192, 192)\n",
            "affine: \n",
            "[[   1.19999695    0.            0.          -98.11138153]\n",
            " [   0.            1.25          0.          -89.59745789]\n",
            " [   0.            0.            1.25       -129.59745789]\n",
            " [   0.            0.            0.            1.        ]]\n",
            "metadata:\n",
            "<class 'nibabel.nifti1.Nifti1Header'> object, endian='<'\n",
            "sizeof_hdr      : 348\n",
            "data_type       : b''\n",
            "db_name         : b''\n",
            "extents         : 0\n",
            "session_error   : 0\n",
            "regular         : b'r'\n",
            "dim_info        : 54\n",
            "dim             : [  3 160 192 192   1   1   1   1]\n",
            "intent_p1       : 0.0\n",
            "intent_p2       : 0.0\n",
            "intent_p3       : 0.0\n",
            "intent_code     : none\n",
            "datatype        : int16\n",
            "bitpix          : 16\n",
            "slice_start     : 0\n",
            "pixdim          : [1.   1.2  1.25 1.25 3.   0.   0.   0.  ]\n",
            "vox_offset      : 0.0\n",
            "scl_slope       : nan\n",
            "scl_inter       : nan\n",
            "slice_end       : 0\n",
            "slice_code      : unknown\n",
            "xyzt_units      : 10\n",
            "cal_max         : 0.0\n",
            "cal_min         : 0.0\n",
            "slice_duration  : 0.0\n",
            "toffset         : 0.0\n",
            "glmax           : 0\n",
            "glmin           : 0\n",
            "descrip         : b'TE=3.6;Time=133203.270;phase=1'\n",
            "aux_file        : b''\n",
            "qform_code      : scanner\n",
            "sform_code      : scanner\n",
            "quatern_b       : 0.0\n",
            "quatern_c       : 0.0\n",
            "quatern_d       : 0.0\n",
            "qoffset_x       : -98.11138\n",
            "qoffset_y       : -89.59746\n",
            "qoffset_z       : -129.59746\n",
            "srow_x          : [  1.199997   0.         0.       -98.11138 ]\n",
            "srow_y          : [  0.        1.25      0.      -89.59746]\n",
            "srow_z          : [   0.         0.         1.25    -129.59746]\n",
            "intent_name     : b''\n",
            "magic           : b'n+1'\n"
          ]
        }
      ]
    },
    {
      "cell_type": "code",
      "source": [
        "for image_class in os.listdir(data_dir):\n",
        "  for image in os.listdir(os.path.join(data_dir, image_class)):\n",
        "    image_path = os.path.join(data_dir, image_class, image)\n",
        "    try:\n",
        "      img = cv2.imread(image_path)\n",
        "      tip = imghdr.what(image_path)\n",
        "      if tip not in image_exts:\n",
        "        print('Imagem não está na lista de formatos {}'.format(image_path))\n",
        "        os.remove(image.path)\n",
        "\n",
        "    except Exception as e:\n",
        "      print('Problema com o formato da imagem {}'.format(image_path))"
      ],
      "metadata": {
        "colab": {
          "base_uri": "https://localhost:8080/"
        },
        "id": "7o57WfNH1g3e",
        "outputId": "3788d682-3906-4139-f078-ad2a83b6abfb"
      },
      "execution_count": null,
      "outputs": [
        {
          "output_type": "stream",
          "name": "stdout",
          "text": [
            "Imagem não está na lista de formatos data/alzheimer/sub-001_T1w.nii\n",
            "Problema com o formato da imagem data/alzheimer/sub-001_T1w.nii\n"
          ]
        }
      ]
    },
    {
      "cell_type": "markdown",
      "source": [],
      "metadata": {
        "id": "_n4NZAFput6e"
      }
    }
  ]
}